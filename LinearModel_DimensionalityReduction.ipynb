{
 "metadata": {
  "language_info": {
   "codemirror_mode": {
    "name": "ipython",
    "version": 3
   },
   "file_extension": ".py",
   "mimetype": "text/x-python",
   "name": "python",
   "nbconvert_exporter": "python",
   "pygments_lexer": "ipython3",
   "version": "3.8.2"
  },
  "orig_nbformat": 2,
  "kernelspec": {
   "name": "pythonjvsc74a57bd0e905ad718a08ed27c2c36c9ef4f1f873648da9e7705f623e5afe311501acb5e0",
   "display_name": "Python 3.8.2  ('env': venv)"
  },
  "metadata": {
   "interpreter": {
    "hash": "e905ad718a08ed27c2c36c9ef4f1f873648da9e7705f623e5afe311501acb5e0"
   }
  }
 },
 "nbformat": 4,
 "nbformat_minor": 2,
 "cells": [
  {
   "source": [
    "# Dimensionality Reduction\n",
    "\n",
    "### Challanges with high dimensional data:\n",
    "- Visualization becomes difficult\n",
    "- All the variables might not be important\n",
    "- More computation time\n",
    "- More complex models\n",
    "- Difficulties in data exploration\n",
    "\n",
    "\n",
    "### Common Dimensionality Reduction Techniques:\n",
    "- <b>Feature Selection</b>\n",
    "\n",
    "\t- Missing value ratio\n",
    "\t- Low Variance\n",
    "\t- High Correlation\n",
    "\t- Backward Feature Elimination\n",
    "\t- Forward Feature Selection\n",
    "\n",
    "- <b>Feature Extractions</b>\n",
    "\t\n",
    "\t- Factor Analysis\n",
    "\t- Principal Component Analysis\n",
    "\n",
    "Feature selection keeps a subset of the original features while feature extraction creates new features using the existing features.\n"
   ],
   "cell_type": "markdown",
   "metadata": {}
  },
  {
   "source": [
    "## Missing value ratio\n",
    "\n",
    "<b>Steps:</b>\n",
    "\t\n",
    "\t- Calculate ratio of missing values\n",
    "\t- Ratio of missing value = (Num of missing values) / (Total num of obs) * 100\n",
    "\t- Calculate above ratio of all the variables\n",
    "\t- Set a threshold, say 70%\n",
    "\t- Use this threshold and drop all the variables which have missing values more than this threshold\n",
    "\n",
    "<b>How to deal with remaining variables which still have missing values in them?<b>\n",
    "\n",
    "Try find reason for missing data (error, PII, customer not filling info). Once we have the reason, we will try to impute those missing values by:\n",
    "\n",
    "\t- Statistical measures like mean, median and mode\n",
    "\t- Train model to predict missing values"
   ],
   "cell_type": "markdown",
   "metadata": {}
  },
  {
   "source": [
    "## Low Variance ratio\n",
    "Variance is the spread of the data. It tells us how far the points are from the mean.<br>\n",
    "\tEg: if all the values in a column are the same number, then the variance is 0.\n",
    "\n",
    "So, we can say that variables with low variance have less impact on the target variable.\n",
    "\n",
    "We can set a threshold value for variance as well. Any column which is below the threshold value can be safely dropped. <br>\n",
    "### <b>IMP </b> - Variance is range dependent. Therefore, we need to do normalization before applying this technique.\n"
   ],
   "cell_type": "markdown",
   "metadata": {}
  },
  {
   "source": [
    "High Correlation Filter\n",
    "Correlation is:\n",
    "Determines relationship between two variables\n",
    "Higher magnitude of corr, stronger the relationship\n",
    "\n",
    "So, if we think that two variables are correlated, we can try:\n",
    "Plot a scatteplot and we can see trend in it\n",
    "Verify it by Pearson Corr. It should be a high number\n",
    "\n",
    "Highly corr variables converys similar info, and its not necessary to keep all of them. They also lead to multicollinearity problem we saw in Linear Regression (in github notebook)\n",
    "\n",
    "Steps:\n",
    "Calculate corr between all independent variables\n",
    "Drop variables if corr value crosses a certain threshold (eg: 0.5 - 0.6)\n",
    "Drop the one which has lesses corr with our target variable\n"
   ],
   "cell_type": "markdown",
   "metadata": {}
  },
  {
   "source": [
    "Backward Feature Elimination\n",
    "\n",
    "Assumptions:\n",
    "No missing values in dataset\n",
    "Variance of the variables is high\n",
    "Low correlation between the independent variables\n",
    "\n",
    "Steps:\n",
    "Train the model using all the variables (n)\n",
    "Calculate the performance of the model\n",
    "Eliminate a variable, train the model on remaining variables (n-1)\n",
    "Calculate the performance of model on new data\n",
    "Identify the eliminated variable which dosen’t impact the performance much\n",
    "Repeat until no more variables can be dropped"
   ],
   "cell_type": "markdown",
   "metadata": {}
  },
  {
   "source": [
    "Forward Feature Selection\n",
    "\n",
    "Steps:\n",
    "Train n models using each feature (n) individually and check the performance\n",
    "Choose variables that give best performance\n",
    "Repeat the process and add one variable at a time\n",
    "Variable producing the highest improvement is retained\n",
    "Repeat the entire process until there is no significant improvement in Model’s performance\n"
   ],
   "cell_type": "markdown",
   "metadata": {}
  },
  {
   "cell_type": "code",
   "execution_count": 7,
   "metadata": {},
   "outputs": [],
   "source": [
    "#importing libraries \n",
    "import pandas as pd \n",
    "import numpy as np\n",
    "import matplotlib.pyplot as plt\n",
    "%matplotlib inline\n",
    "from sklearn.metrics import mean_squared_error as mse"
   ]
  },
  {
   "cell_type": "code",
   "execution_count": 8,
   "metadata": {},
   "outputs": [],
   "source": [
    "df = pd.read_csv(\"insurance.csv\")"
   ]
  },
  {
   "cell_type": "code",
   "execution_count": 9,
   "metadata": {},
   "outputs": [
    {
     "output_type": "execute_result",
     "data": {
      "text/plain": [
       "   age     sex    bmi  children smoker     region     charges\n",
       "0   19  female  27.90         0    yes  southwest  16884.9240\n",
       "1   18    male  33.77         1     no  southeast   1725.5523\n",
       "2   28    male  33.00         3     no  southeast   4449.4620"
      ],
      "text/html": "<div>\n<style scoped>\n    .dataframe tbody tr th:only-of-type {\n        vertical-align: middle;\n    }\n\n    .dataframe tbody tr th {\n        vertical-align: top;\n    }\n\n    .dataframe thead th {\n        text-align: right;\n    }\n</style>\n<table border=\"1\" class=\"dataframe\">\n  <thead>\n    <tr style=\"text-align: right;\">\n      <th></th>\n      <th>age</th>\n      <th>sex</th>\n      <th>bmi</th>\n      <th>children</th>\n      <th>smoker</th>\n      <th>region</th>\n      <th>charges</th>\n    </tr>\n  </thead>\n  <tbody>\n    <tr>\n      <th>0</th>\n      <td>19</td>\n      <td>female</td>\n      <td>27.90</td>\n      <td>0</td>\n      <td>yes</td>\n      <td>southwest</td>\n      <td>16884.9240</td>\n    </tr>\n    <tr>\n      <th>1</th>\n      <td>18</td>\n      <td>male</td>\n      <td>33.77</td>\n      <td>1</td>\n      <td>no</td>\n      <td>southeast</td>\n      <td>1725.5523</td>\n    </tr>\n    <tr>\n      <th>2</th>\n      <td>28</td>\n      <td>male</td>\n      <td>33.00</td>\n      <td>3</td>\n      <td>no</td>\n      <td>southeast</td>\n      <td>4449.4620</td>\n    </tr>\n  </tbody>\n</table>\n</div>"
     },
     "metadata": {},
     "execution_count": 9
    }
   ],
   "source": [
    "df.head(3)"
   ]
  },
  {
   "cell_type": "code",
   "execution_count": 26,
   "metadata": {},
   "outputs": [
    {
     "output_type": "execute_result",
     "data": {
      "text/plain": [
       "(1338, 7)"
      ]
     },
     "metadata": {},
     "execution_count": 26
    }
   ],
   "source": [
    "df.shape"
   ]
  },
  {
   "cell_type": "code",
   "execution_count": 25,
   "metadata": {},
   "outputs": [],
   "source": [
    "#How to use random numbers to create train and test data if you don't want to use train test split\n",
    "\n",
    "\n",
    "df['randomnum'] = np.random.randint(1,6,df.shape[0])\n",
    "\n",
    "train_temp = df[df['randomnum'] >= 3]\n",
    "test_temp = df[df.randomnum < 3] \n",
    "\n",
    "train_temp = train_temp.drop('randomnum', axis=1)\n",
    "test_temp = test_temp.drop('randomnum', axis=1)\n",
    "\n",
    "df = df.drop('randomnum', axis=1)"
   ]
  },
  {
   "cell_type": "code",
   "execution_count": 31,
   "metadata": {},
   "outputs": [
    {
     "output_type": "execute_result",
     "data": {
      "text/plain": [
       "      age     sex     bmi  children smoker     region      charges\n",
       "1      18    male  33.770         1     no  southeast   1725.55230\n",
       "2      28    male  33.000         3     no  southeast   4449.46200\n",
       "3      33    male  22.705         0     no  northwest  21984.47061\n",
       "5      31  female  25.740         0     no  southeast   3756.62160\n",
       "7      37  female  27.740         3     no  northwest   7281.50560\n",
       "...   ...     ...     ...       ...    ...        ...          ...\n",
       "1332   52  female  44.700         3     no  southwest  11411.68500\n",
       "1334   18  female  31.920         0     no  northeast   2205.98080\n",
       "1335   18  female  36.850         0     no  southeast   1629.83350\n",
       "1336   21  female  25.800         0     no  southwest   2007.94500\n",
       "1337   61  female  29.070         0    yes  northwest  29141.36030\n",
       "\n",
       "[804 rows x 7 columns]"
      ],
      "text/html": "<div>\n<style scoped>\n    .dataframe tbody tr th:only-of-type {\n        vertical-align: middle;\n    }\n\n    .dataframe tbody tr th {\n        vertical-align: top;\n    }\n\n    .dataframe thead th {\n        text-align: right;\n    }\n</style>\n<table border=\"1\" class=\"dataframe\">\n  <thead>\n    <tr style=\"text-align: right;\">\n      <th></th>\n      <th>age</th>\n      <th>sex</th>\n      <th>bmi</th>\n      <th>children</th>\n      <th>smoker</th>\n      <th>region</th>\n      <th>charges</th>\n    </tr>\n  </thead>\n  <tbody>\n    <tr>\n      <th>1</th>\n      <td>18</td>\n      <td>male</td>\n      <td>33.770</td>\n      <td>1</td>\n      <td>no</td>\n      <td>southeast</td>\n      <td>1725.55230</td>\n    </tr>\n    <tr>\n      <th>2</th>\n      <td>28</td>\n      <td>male</td>\n      <td>33.000</td>\n      <td>3</td>\n      <td>no</td>\n      <td>southeast</td>\n      <td>4449.46200</td>\n    </tr>\n    <tr>\n      <th>3</th>\n      <td>33</td>\n      <td>male</td>\n      <td>22.705</td>\n      <td>0</td>\n      <td>no</td>\n      <td>northwest</td>\n      <td>21984.47061</td>\n    </tr>\n    <tr>\n      <th>5</th>\n      <td>31</td>\n      <td>female</td>\n      <td>25.740</td>\n      <td>0</td>\n      <td>no</td>\n      <td>southeast</td>\n      <td>3756.62160</td>\n    </tr>\n    <tr>\n      <th>7</th>\n      <td>37</td>\n      <td>female</td>\n      <td>27.740</td>\n      <td>3</td>\n      <td>no</td>\n      <td>northwest</td>\n      <td>7281.50560</td>\n    </tr>\n    <tr>\n      <th>...</th>\n      <td>...</td>\n      <td>...</td>\n      <td>...</td>\n      <td>...</td>\n      <td>...</td>\n      <td>...</td>\n      <td>...</td>\n    </tr>\n    <tr>\n      <th>1332</th>\n      <td>52</td>\n      <td>female</td>\n      <td>44.700</td>\n      <td>3</td>\n      <td>no</td>\n      <td>southwest</td>\n      <td>11411.68500</td>\n    </tr>\n    <tr>\n      <th>1334</th>\n      <td>18</td>\n      <td>female</td>\n      <td>31.920</td>\n      <td>0</td>\n      <td>no</td>\n      <td>northeast</td>\n      <td>2205.98080</td>\n    </tr>\n    <tr>\n      <th>1335</th>\n      <td>18</td>\n      <td>female</td>\n      <td>36.850</td>\n      <td>0</td>\n      <td>no</td>\n      <td>southeast</td>\n      <td>1629.83350</td>\n    </tr>\n    <tr>\n      <th>1336</th>\n      <td>21</td>\n      <td>female</td>\n      <td>25.800</td>\n      <td>0</td>\n      <td>no</td>\n      <td>southwest</td>\n      <td>2007.94500</td>\n    </tr>\n    <tr>\n      <th>1337</th>\n      <td>61</td>\n      <td>female</td>\n      <td>29.070</td>\n      <td>0</td>\n      <td>yes</td>\n      <td>northwest</td>\n      <td>29141.36030</td>\n    </tr>\n  </tbody>\n</table>\n<p>804 rows × 7 columns</p>\n</div>"
     },
     "metadata": {},
     "execution_count": 31
    }
   ],
   "source": [
    "train_temp"
   ]
  },
  {
   "cell_type": "code",
   "execution_count": null,
   "metadata": {},
   "outputs": [],
   "source": []
  }
 ]
}