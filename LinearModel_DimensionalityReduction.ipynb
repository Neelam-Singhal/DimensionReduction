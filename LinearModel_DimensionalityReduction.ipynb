{
 "metadata": {
  "language_info": {
   "codemirror_mode": {
    "name": "ipython",
    "version": 3
   },
   "file_extension": ".py",
   "mimetype": "text/x-python",
   "name": "python",
   "nbconvert_exporter": "python",
   "pygments_lexer": "ipython3",
   "version": "3.8.2"
  },
  "orig_nbformat": 2,
  "kernelspec": {
   "name": "pythonjvsc74a57bd0e905ad718a08ed27c2c36c9ef4f1f873648da9e7705f623e5afe311501acb5e0",
   "display_name": "Python 3.8.2  ('env': venv)"
  },
  "metadata": {
   "interpreter": {
    "hash": "e905ad718a08ed27c2c36c9ef4f1f873648da9e7705f623e5afe311501acb5e0"
   }
  }
 },
 "nbformat": 4,
 "nbformat_minor": 2,
 "cells": [
  {
   "source": [
    "# Dimensionality Reduction\n",
    "\n",
    "### Challanges with high dimensional data:\n",
    "- Visualization becomes difficult\n",
    "- All the variables might not be important\n",
    "- More computation time\n",
    "- More complex models\n",
    "- Difficulties in data exploration\n",
    "\n",
    "\n",
    "### Common Dimensionality Reduction Techniques:\n",
    "- <b>Feature Selection</b>\n",
    "\n",
    "\t- Missing value ratio\n",
    "\t- Low Variance\n",
    "\t- High Correlation\n",
    "\t- Backward Feature Elimination\n",
    "\t- Forward Feature Selection\n",
    "\n",
    "- <b>Feature Extractions</b>\n",
    "\t\n",
    "\t- Factor Analysis\n",
    "\t- Principal Component Analysis\n",
    "\n",
    "Feature selection keeps a subset of the original features while feature extraction creates new features using the existing features.\n"
   ],
   "cell_type": "markdown",
   "metadata": {}
  },
  {
   "source": [],
   "cell_type": "markdown",
   "metadata": {}
  },
  {
   "cell_type": "code",
   "execution_count": 2,
   "metadata": {},
   "outputs": [],
   "source": [
    "#importing libraries \n",
    "import pandas as pd \n",
    "import numpy as np\n",
    "import matplotlib.pyplot as plt\n",
    "%matplotlib inline\n",
    "from sklearn.metrics import mean_squared_error as mse"
   ]
  },
  {
   "source": [
    "## Missing value ratio\n",
    "\n",
    "<b>Steps:</b>\n",
    "\t\n",
    "\t- Calculate ratio of missing values\n",
    "\t- Ratio of missing value = (Num of missing values) / (Total num of obs) * 100\n",
    "\t- Calculate above ratio of all the variables\n",
    "\t- Set a threshold, say 70%\n",
    "\t- Use this threshold and drop all the variables which have missing values more than this threshold\n",
    "\n",
    "<b>How to deal with remaining variables which still have missing values in them?<b>\n",
    "\n",
    "Try find reason for missing data (error, PII, customer not filling info). Once we have the reason, we will try to impute those missing values by:\n",
    "\n",
    "\t- Statistical measures like mean, median and mode\n",
    "\t- Train model to predict missing values"
   ],
   "cell_type": "markdown",
   "metadata": {}
  },
  {
   "cell_type": "code",
   "execution_count": 102,
   "metadata": {},
   "outputs": [],
   "source": [
    "data_mv = pd.read_csv('missing_value_ratio.csv')"
   ]
  },
  {
   "cell_type": "code",
   "execution_count": 103,
   "metadata": {},
   "outputs": [
    {
     "output_type": "execute_result",
     "data": {
      "text/plain": [
       "(12980, 10)"
      ]
     },
     "metadata": {},
     "execution_count": 103
    }
   ],
   "source": [
    "data_mv.shape"
   ]
  },
  {
   "cell_type": "code",
   "execution_count": 104,
   "metadata": {},
   "outputs": [
    {
     "output_type": "execute_result",
     "data": {
      "text/plain": [
       "ID               0\n",
       "season           9\n",
       "holiday       6295\n",
       "workingday       9\n",
       "weather          4\n",
       "temp             0\n",
       "atemp            0\n",
       "humidity         5\n",
       "windspeed     5324\n",
       "count            0\n",
       "dtype: int64"
      ]
     },
     "metadata": {},
     "execution_count": 104
    }
   ],
   "source": [
    "data_mv.isna().sum()"
   ]
  },
  {
   "cell_type": "code",
   "execution_count": 105,
   "metadata": {},
   "outputs": [],
   "source": [
    "cols = data_mv.columns"
   ]
  },
  {
   "cell_type": "code",
   "execution_count": 106,
   "metadata": {},
   "outputs": [
    {
     "output_type": "stream",
     "name": "stdout",
     "text": [
      "This is ratio out of loop  [0.0, 0.06933744221879815, 48.497688751926034, 0.06933744221879815, 0.030816640986132512, 0.0, 0.0, 0.038520801232665644, 41.01694915254237, 0.0]\n"
     ]
    }
   ],
   "source": [
    "# Ratio of missing value = (Num of missing values) / (Total num of obs) * 100\n",
    "ratios = []\n",
    "for i in (cols):\n",
    "    ratios_temp = (data_mv[i].isna().sum() / data_mv.shape[0])*100\n",
    "    ratios.append(ratios_temp)\n",
    "\n",
    "print(\"This is ratio out of loop \", ratios)\n",
    "    #ratios[i] = data[i].isna().sum() / data.shape[0]"
   ]
  },
  {
   "cell_type": "code",
   "execution_count": 49,
   "metadata": {},
   "outputs": [
    {
     "output_type": "execute_result",
     "data": {
      "text/plain": [
       "('season', 0.06933744221879815)"
      ]
     },
     "metadata": {},
     "execution_count": 49
    }
   ],
   "source": [
    "cols[1], ratios[1]"
   ]
  },
  {
   "cell_type": "code",
   "execution_count": 59,
   "metadata": {},
   "outputs": [
    {
     "output_type": "execute_result",
     "data": {
      "text/plain": [
       "['ID', 'season', 'workingday', 'weather', 'temp', 'atemp', 'humidity', 'count']"
      ]
     },
     "metadata": {},
     "execution_count": 59
    }
   ],
   "source": [
    "# set the threshold\n",
    "\n",
    "thresh = 40\n",
    "indexlist = []\n",
    "for i in range(len(cols)):\n",
    "    if ratios[i] < thresh:\n",
    "        indexlist.append(cols[i]) \n",
    "\n",
    "#list of columns with greater threshold\n",
    "\n",
    "indexlist"
   ]
  },
  {
   "cell_type": "code",
   "execution_count": 107,
   "metadata": {},
   "outputs": [],
   "source": [
    "new_data = data_mv[indexlist]"
   ]
  },
  {
   "cell_type": "code",
   "execution_count": 61,
   "metadata": {},
   "outputs": [
    {
     "output_type": "execute_result",
     "data": {
      "text/plain": [
       "      ID  season  workingday  weather  temp   atemp  humidity  count\n",
       "0  AB101     1.0         0.0      1.0  9.84  14.395      81.0     16\n",
       "1  AB102     1.0         0.0      NaN  9.02  13.635      80.0     40\n",
       "2  AB103     1.0         NaN      1.0  9.02  13.635      80.0     32\n",
       "3  AB104     NaN         NaN      1.0  9.84  14.395      75.0     13\n",
       "4  AB105     1.0         0.0      NaN  9.84  14.395       NaN      1"
      ],
      "text/html": "<div>\n<style scoped>\n    .dataframe tbody tr th:only-of-type {\n        vertical-align: middle;\n    }\n\n    .dataframe tbody tr th {\n        vertical-align: top;\n    }\n\n    .dataframe thead th {\n        text-align: right;\n    }\n</style>\n<table border=\"1\" class=\"dataframe\">\n  <thead>\n    <tr style=\"text-align: right;\">\n      <th></th>\n      <th>ID</th>\n      <th>season</th>\n      <th>workingday</th>\n      <th>weather</th>\n      <th>temp</th>\n      <th>atemp</th>\n      <th>humidity</th>\n      <th>count</th>\n    </tr>\n  </thead>\n  <tbody>\n    <tr>\n      <th>0</th>\n      <td>AB101</td>\n      <td>1.0</td>\n      <td>0.0</td>\n      <td>1.0</td>\n      <td>9.84</td>\n      <td>14.395</td>\n      <td>81.0</td>\n      <td>16</td>\n    </tr>\n    <tr>\n      <th>1</th>\n      <td>AB102</td>\n      <td>1.0</td>\n      <td>0.0</td>\n      <td>NaN</td>\n      <td>9.02</td>\n      <td>13.635</td>\n      <td>80.0</td>\n      <td>40</td>\n    </tr>\n    <tr>\n      <th>2</th>\n      <td>AB103</td>\n      <td>1.0</td>\n      <td>NaN</td>\n      <td>1.0</td>\n      <td>9.02</td>\n      <td>13.635</td>\n      <td>80.0</td>\n      <td>32</td>\n    </tr>\n    <tr>\n      <th>3</th>\n      <td>AB104</td>\n      <td>NaN</td>\n      <td>NaN</td>\n      <td>1.0</td>\n      <td>9.84</td>\n      <td>14.395</td>\n      <td>75.0</td>\n      <td>13</td>\n    </tr>\n    <tr>\n      <th>4</th>\n      <td>AB105</td>\n      <td>1.0</td>\n      <td>0.0</td>\n      <td>NaN</td>\n      <td>9.84</td>\n      <td>14.395</td>\n      <td>NaN</td>\n      <td>1</td>\n    </tr>\n  </tbody>\n</table>\n</div>"
     },
     "metadata": {},
     "execution_count": 61
    }
   ],
   "source": [
    "new_data.head()"
   ]
  },
  {
   "cell_type": "code",
   "execution_count": 62,
   "metadata": {},
   "outputs": [
    {
     "output_type": "execute_result",
     "data": {
      "text/plain": [
       "ID            0.000000\n",
       "season        0.069337\n",
       "workingday    0.069337\n",
       "weather       0.030817\n",
       "temp          0.000000\n",
       "atemp         0.000000\n",
       "humidity      0.038521\n",
       "count         0.000000\n",
       "dtype: float64"
      ]
     },
     "metadata": {},
     "execution_count": 62
    }
   ],
   "source": [
    "#Recalculate missing value percentage\n",
    "\n",
    "new_data.isnull().sum() / len(new_data) * 100"
   ]
  },
  {
   "cell_type": "code",
   "execution_count": 108,
   "metadata": {},
   "outputs": [
    {
     "output_type": "execute_result",
     "data": {
      "text/plain": [
       "((12980, 8), (12980, 10))"
      ]
     },
     "metadata": {},
     "execution_count": 108
    }
   ],
   "source": [
    "# shape of new and original data\n",
    "new_data.shape, data_mv.shape"
   ]
  },
  {
   "source": [
    "## Low Variance ratio\n",
    "Variance is the spread of the data. It tells us how far the points are from the mean.<br>\n",
    "\tEg: if all the values in a column are the same number, then the variance is 0.\n",
    "\n",
    "So, we can say that variables with low variance have less impact on the target variable.\n",
    "\n",
    "We can set a threshold value for variance as well. Any column which is below the threshold value can be safely dropped. \n",
    "<br>\n",
    "Variance can be applied only to numeric columns, not categorical columns. For categorical columns, if one category is repeating for more than 95% of data, then that feature has less variance\n",
    "### <b>IMP </b> - Variance is range dependent. Therefore, we need to do normalization before applying this technique.\n"
   ],
   "cell_type": "markdown",
   "metadata": {}
  },
  {
   "cell_type": "code",
   "execution_count": 64,
   "metadata": {},
   "outputs": [],
   "source": [
    "from sklearn.preprocessing import normalize"
   ]
  },
  {
   "cell_type": "code",
   "execution_count": 66,
   "metadata": {},
   "outputs": [
    {
     "output_type": "execute_result",
     "data": {
      "text/plain": [
       "      ID  temp   atemp  humidity  windspeed  count\n",
       "0  AB101  9.84  14.395        81        0.0     16\n",
       "1  AB102  9.02  13.635        80        0.0     40\n",
       "2  AB103  9.02  13.635        80        0.0     32\n",
       "3  AB104  9.84  14.395        75        0.0     13\n",
       "4  AB105  9.84  14.395        75        0.0      1"
      ],
      "text/html": "<div>\n<style scoped>\n    .dataframe tbody tr th:only-of-type {\n        vertical-align: middle;\n    }\n\n    .dataframe tbody tr th {\n        vertical-align: top;\n    }\n\n    .dataframe thead th {\n        text-align: right;\n    }\n</style>\n<table border=\"1\" class=\"dataframe\">\n  <thead>\n    <tr style=\"text-align: right;\">\n      <th></th>\n      <th>ID</th>\n      <th>temp</th>\n      <th>atemp</th>\n      <th>humidity</th>\n      <th>windspeed</th>\n      <th>count</th>\n    </tr>\n  </thead>\n  <tbody>\n    <tr>\n      <th>0</th>\n      <td>AB101</td>\n      <td>9.84</td>\n      <td>14.395</td>\n      <td>81</td>\n      <td>0.0</td>\n      <td>16</td>\n    </tr>\n    <tr>\n      <th>1</th>\n      <td>AB102</td>\n      <td>9.02</td>\n      <td>13.635</td>\n      <td>80</td>\n      <td>0.0</td>\n      <td>40</td>\n    </tr>\n    <tr>\n      <th>2</th>\n      <td>AB103</td>\n      <td>9.02</td>\n      <td>13.635</td>\n      <td>80</td>\n      <td>0.0</td>\n      <td>32</td>\n    </tr>\n    <tr>\n      <th>3</th>\n      <td>AB104</td>\n      <td>9.84</td>\n      <td>14.395</td>\n      <td>75</td>\n      <td>0.0</td>\n      <td>13</td>\n    </tr>\n    <tr>\n      <th>4</th>\n      <td>AB105</td>\n      <td>9.84</td>\n      <td>14.395</td>\n      <td>75</td>\n      <td>0.0</td>\n      <td>1</td>\n    </tr>\n  </tbody>\n</table>\n</div>"
     },
     "metadata": {},
     "execution_count": 66
    }
   ],
   "source": [
    "data_lv = pd.read_csv('low_variance_filter.csv')\n",
    "data_lv.head()"
   ]
  },
  {
   "cell_type": "code",
   "execution_count": 72,
   "metadata": {},
   "outputs": [
    {
     "output_type": "execute_result",
     "data": {
      "text/plain": [
       "(12980, 6)"
      ]
     },
     "metadata": {},
     "execution_count": 72
    }
   ],
   "source": [
    "data_lv.shape"
   ]
  },
  {
   "cell_type": "code",
   "execution_count": 67,
   "metadata": {},
   "outputs": [
    {
     "output_type": "execute_result",
     "data": {
      "text/plain": [
       "ID           0\n",
       "temp         0\n",
       "atemp        0\n",
       "humidity     0\n",
       "windspeed    0\n",
       "count        0\n",
       "dtype: int64"
      ]
     },
     "metadata": {},
     "execution_count": 67
    }
   ],
   "source": [
    "#first check if there is any missing values\n",
    "data_lv.isna().sum()"
   ]
  },
  {
   "cell_type": "code",
   "execution_count": 70,
   "metadata": {},
   "outputs": [
    {
     "output_type": "execute_result",
     "data": {
      "text/plain": [
       "ID            object\n",
       "temp         float64\n",
       "atemp        float64\n",
       "humidity       int64\n",
       "windspeed    float64\n",
       "count          int64\n",
       "dtype: object"
      ]
     },
     "metadata": {},
     "execution_count": 70
    }
   ],
   "source": [
    "#This is not applicable on Category data.\n",
    "data_lv.dtypes"
   ]
  },
  {
   "cell_type": "code",
   "execution_count": 73,
   "metadata": {},
   "outputs": [],
   "source": [
    "# We can drop ID column as its only unique identifier for each row and don't provide any information about dependent variable\n",
    "\n",
    "data_lv = data_lv.drop('ID', axis=1)"
   ]
  },
  {
   "cell_type": "code",
   "execution_count": 74,
   "metadata": {},
   "outputs": [
    {
     "output_type": "execute_result",
     "data": {
      "text/plain": [
       "(12980, 5)"
      ]
     },
     "metadata": {},
     "execution_count": 74
    }
   ],
   "source": [
    "data_lv.shape"
   ]
  },
  {
   "cell_type": "code",
   "execution_count": 78,
   "metadata": {},
   "outputs": [
    {
     "output_type": "execute_result",
     "data": {
      "text/plain": [
       "Index(['temp', 'atemp', 'humidity', 'windspeed', 'count'], dtype='object')"
      ]
     },
     "metadata": {},
     "execution_count": 78
    }
   ],
   "source": [
    "cols_lv = data_lv.columns\n",
    "cols_lv"
   ]
  },
  {
   "cell_type": "code",
   "execution_count": 75,
   "metadata": {},
   "outputs": [],
   "source": [
    "#normalize the data\n",
    "data_lv_normalize = normalize(data_lv)"
   ]
  },
  {
   "cell_type": "code",
   "execution_count": 81,
   "metadata": {},
   "outputs": [
    {
     "output_type": "execute_result",
     "data": {
      "text/plain": [
       "       temp     atemp  humidity  windspeed     count\n",
       "0  0.116607  0.170585  0.959872        0.0  0.189604\n",
       "1  0.099203  0.149960  0.879850        0.0  0.439925\n",
       "2  0.102851  0.155473  0.912202        0.0  0.364881\n",
       "3  0.126009  0.184339  0.960431        0.0  0.166475\n",
       "4  0.127781  0.186932  0.973940        0.0  0.012986"
      ],
      "text/html": "<div>\n<style scoped>\n    .dataframe tbody tr th:only-of-type {\n        vertical-align: middle;\n    }\n\n    .dataframe tbody tr th {\n        vertical-align: top;\n    }\n\n    .dataframe thead th {\n        text-align: right;\n    }\n</style>\n<table border=\"1\" class=\"dataframe\">\n  <thead>\n    <tr style=\"text-align: right;\">\n      <th></th>\n      <th>temp</th>\n      <th>atemp</th>\n      <th>humidity</th>\n      <th>windspeed</th>\n      <th>count</th>\n    </tr>\n  </thead>\n  <tbody>\n    <tr>\n      <th>0</th>\n      <td>0.116607</td>\n      <td>0.170585</td>\n      <td>0.959872</td>\n      <td>0.0</td>\n      <td>0.189604</td>\n    </tr>\n    <tr>\n      <th>1</th>\n      <td>0.099203</td>\n      <td>0.149960</td>\n      <td>0.879850</td>\n      <td>0.0</td>\n      <td>0.439925</td>\n    </tr>\n    <tr>\n      <th>2</th>\n      <td>0.102851</td>\n      <td>0.155473</td>\n      <td>0.912202</td>\n      <td>0.0</td>\n      <td>0.364881</td>\n    </tr>\n    <tr>\n      <th>3</th>\n      <td>0.126009</td>\n      <td>0.184339</td>\n      <td>0.960431</td>\n      <td>0.0</td>\n      <td>0.166475</td>\n    </tr>\n    <tr>\n      <th>4</th>\n      <td>0.127781</td>\n      <td>0.186932</td>\n      <td>0.973940</td>\n      <td>0.0</td>\n      <td>0.012986</td>\n    </tr>\n  </tbody>\n</table>\n</div>"
     },
     "metadata": {},
     "execution_count": 81
    }
   ],
   "source": [
    "# Normalize convert DF to array. Conver it back\n",
    "\n",
    "data_lv_normalize = pd.DataFrame(data_lv_normalize, columns=cols_lv)\n",
    "data_lv_normalize.head()"
   ]
  },
  {
   "cell_type": "code",
   "execution_count": 82,
   "metadata": {},
   "outputs": [],
   "source": [
    "variances = data_lv_normalize.var()"
   ]
  },
  {
   "cell_type": "code",
   "execution_count": 83,
   "metadata": {},
   "outputs": [
    {
     "output_type": "execute_result",
     "data": {
      "text/plain": [
       "temp         0.005877\n",
       "atemp        0.007977\n",
       "humidity     0.093491\n",
       "windspeed    0.008756\n",
       "count        0.111977\n",
       "dtype: float64"
      ]
     },
     "metadata": {},
     "execution_count": 83
    }
   ],
   "source": [
    "variances"
   ]
  },
  {
   "cell_type": "code",
   "execution_count": 92,
   "metadata": {},
   "outputs": [
    {
     "output_type": "execute_result",
     "data": {
      "text/plain": [
       "['atemp', 'humidity', 'windspeed', 'count']"
      ]
     },
     "metadata": {},
     "execution_count": 92
    }
   ],
   "source": [
    "variances_features = []\n",
    "for i in range(len(variances)):\n",
    "    if (variances[i] >= 0.006):\n",
    "        variances_features.append(cols_lv[i])\n",
    "\n",
    "variances_features"
   ]
  },
  {
   "cell_type": "code",
   "execution_count": 97,
   "metadata": {},
   "outputs": [
    {
     "output_type": "execute_result",
     "data": {
      "text/plain": [
       "    atemp  humidity  windspeed  count\n",
       "0  14.395        81        0.0     16\n",
       "1  13.635        80        0.0     40\n",
       "2  13.635        80        0.0     32\n",
       "3  14.395        75        0.0     13\n",
       "4  14.395        75        0.0      1"
      ],
      "text/html": "<div>\n<style scoped>\n    .dataframe tbody tr th:only-of-type {\n        vertical-align: middle;\n    }\n\n    .dataframe tbody tr th {\n        vertical-align: top;\n    }\n\n    .dataframe thead th {\n        text-align: right;\n    }\n</style>\n<table border=\"1\" class=\"dataframe\">\n  <thead>\n    <tr style=\"text-align: right;\">\n      <th></th>\n      <th>atemp</th>\n      <th>humidity</th>\n      <th>windspeed</th>\n      <th>count</th>\n    </tr>\n  </thead>\n  <tbody>\n    <tr>\n      <th>0</th>\n      <td>14.395</td>\n      <td>81</td>\n      <td>0.0</td>\n      <td>16</td>\n    </tr>\n    <tr>\n      <th>1</th>\n      <td>13.635</td>\n      <td>80</td>\n      <td>0.0</td>\n      <td>40</td>\n    </tr>\n    <tr>\n      <th>2</th>\n      <td>13.635</td>\n      <td>80</td>\n      <td>0.0</td>\n      <td>32</td>\n    </tr>\n    <tr>\n      <th>3</th>\n      <td>14.395</td>\n      <td>75</td>\n      <td>0.0</td>\n      <td>13</td>\n    </tr>\n    <tr>\n      <th>4</th>\n      <td>14.395</td>\n      <td>75</td>\n      <td>0.0</td>\n      <td>1</td>\n    </tr>\n  </tbody>\n</table>\n</div>"
     },
     "metadata": {},
     "execution_count": 97
    }
   ],
   "source": [
    "new_data_lv = data_lv[variances_features]\n",
    "new_data_lv.head()"
   ]
  },
  {
   "cell_type": "code",
   "execution_count": 98,
   "metadata": {},
   "outputs": [
    {
     "output_type": "execute_result",
     "data": {
      "text/plain": [
       "atemp           73.137484\n",
       "humidity       398.549141\n",
       "windspeed       69.322053\n",
       "count        25843.419864\n",
       "dtype: float64"
      ]
     },
     "metadata": {},
     "execution_count": 98
    }
   ],
   "source": [
    "new_data_lv.var()"
   ]
  },
  {
   "cell_type": "code",
   "execution_count": 99,
   "metadata": {},
   "outputs": [
    {
     "output_type": "execute_result",
     "data": {
      "text/plain": [
       "((12980, 4), (12980, 5))"
      ]
     },
     "metadata": {},
     "execution_count": 99
    }
   ],
   "source": [
    "# shape of new and original data\n",
    "new_data_lv.shape, data_lv.shape"
   ]
  },
  {
   "source": [
    "## High Correlation Filter\n",
    "\n",
    "Correlation is: <br>\n",
    "   - Determines relationship between two variables\n",
    "   - Higher magnitude of corr, stronger the relationship\n",
    "\n",
    "So, if we think that two variables are correlated, we can try: <br>\n",
    "   - Plot a scatteplot and we can see trend in it\n",
    "   - Verify it by Pearson Corr. It should be a high number\n",
    "\n",
    "Highly corr variables converys similar info, and its not necessary to keep all of them. They also lead to **multicollinearity** problem we saw in Linear Regression (in github notebook - https://github.com/Neelam-Singhal/Linear-Models/blob/master/LinearModel.ipynb)\n",
    "\n",
    "Steps:\n",
    "\n",
    "   - Calculate corr between all independent variables\n",
    "   - Drop variables if corr value crosses a certain threshold (eg: 0.5 - 0.6)\n",
    "   - Drop the one which has lesses corr with our target variable\n"
   ],
   "cell_type": "markdown",
   "metadata": {}
  },
  {
   "cell_type": "code",
   "execution_count": 101,
   "metadata": {},
   "outputs": [],
   "source": [
    "data_hc = pd.read_csv('high_correlation_fllter.csv')"
   ]
  },
  {
   "cell_type": "code",
   "execution_count": 110,
   "metadata": {},
   "outputs": [
    {
     "output_type": "execute_result",
     "data": {
      "text/plain": [
       "      ID  season  holiday  workingday  weather  temp   atemp  humidity  \\\n",
       "0  AB101       1        0           0        1  9.84  14.395        81   \n",
       "1  AB102       1        0           0        1  9.02  13.635        80   \n",
       "2  AB103       1        0           0        1  9.02  13.635        80   \n",
       "3  AB104       1        0           0        1  9.84  14.395        75   \n",
       "4  AB105       1        0           0        1  9.84  14.395        75   \n",
       "\n",
       "   windspeed  count  \n",
       "0        0.0     16  \n",
       "1        0.0     40  \n",
       "2        0.0     32  \n",
       "3        0.0     13  \n",
       "4        0.0      1  "
      ],
      "text/html": "<div>\n<style scoped>\n    .dataframe tbody tr th:only-of-type {\n        vertical-align: middle;\n    }\n\n    .dataframe tbody tr th {\n        vertical-align: top;\n    }\n\n    .dataframe thead th {\n        text-align: right;\n    }\n</style>\n<table border=\"1\" class=\"dataframe\">\n  <thead>\n    <tr style=\"text-align: right;\">\n      <th></th>\n      <th>ID</th>\n      <th>season</th>\n      <th>holiday</th>\n      <th>workingday</th>\n      <th>weather</th>\n      <th>temp</th>\n      <th>atemp</th>\n      <th>humidity</th>\n      <th>windspeed</th>\n      <th>count</th>\n    </tr>\n  </thead>\n  <tbody>\n    <tr>\n      <th>0</th>\n      <td>AB101</td>\n      <td>1</td>\n      <td>0</td>\n      <td>0</td>\n      <td>1</td>\n      <td>9.84</td>\n      <td>14.395</td>\n      <td>81</td>\n      <td>0.0</td>\n      <td>16</td>\n    </tr>\n    <tr>\n      <th>1</th>\n      <td>AB102</td>\n      <td>1</td>\n      <td>0</td>\n      <td>0</td>\n      <td>1</td>\n      <td>9.02</td>\n      <td>13.635</td>\n      <td>80</td>\n      <td>0.0</td>\n      <td>40</td>\n    </tr>\n    <tr>\n      <th>2</th>\n      <td>AB103</td>\n      <td>1</td>\n      <td>0</td>\n      <td>0</td>\n      <td>1</td>\n      <td>9.02</td>\n      <td>13.635</td>\n      <td>80</td>\n      <td>0.0</td>\n      <td>32</td>\n    </tr>\n    <tr>\n      <th>3</th>\n      <td>AB104</td>\n      <td>1</td>\n      <td>0</td>\n      <td>0</td>\n      <td>1</td>\n      <td>9.84</td>\n      <td>14.395</td>\n      <td>75</td>\n      <td>0.0</td>\n      <td>13</td>\n    </tr>\n    <tr>\n      <th>4</th>\n      <td>AB105</td>\n      <td>1</td>\n      <td>0</td>\n      <td>0</td>\n      <td>1</td>\n      <td>9.84</td>\n      <td>14.395</td>\n      <td>75</td>\n      <td>0.0</td>\n      <td>1</td>\n    </tr>\n  </tbody>\n</table>\n</div>"
     },
     "metadata": {},
     "execution_count": 110
    }
   ],
   "source": [
    "data_hc.head()"
   ]
  },
  {
   "cell_type": "code",
   "execution_count": 109,
   "metadata": {},
   "outputs": [
    {
     "output_type": "execute_result",
     "data": {
      "text/plain": [
       "(12980, 10)"
      ]
     },
     "metadata": {},
     "execution_count": 109
    }
   ],
   "source": [
    "data_hc.shape"
   ]
  },
  {
   "cell_type": "code",
   "execution_count": 111,
   "metadata": {},
   "outputs": [
    {
     "output_type": "execute_result",
     "data": {
      "text/plain": [
       "ID            0\n",
       "season        0\n",
       "holiday       0\n",
       "workingday    0\n",
       "weather       0\n",
       "temp          0\n",
       "atemp         0\n",
       "humidity      0\n",
       "windspeed     0\n",
       "count         0\n",
       "dtype: int64"
      ]
     },
     "metadata": {},
     "execution_count": 111
    }
   ],
   "source": [
    "# Check if any null\n",
    "data_hc.isna().sum()"
   ]
  },
  {
   "cell_type": "code",
   "execution_count": 112,
   "metadata": {},
   "outputs": [],
   "source": [
    "#drop the target variable\n",
    "data_hc = data_hc.drop('count', axis=1)"
   ]
  },
  {
   "cell_type": "code",
   "execution_count": 113,
   "metadata": {},
   "outputs": [
    {
     "output_type": "execute_result",
     "data": {
      "text/plain": [
       "(12980, 9)"
      ]
     },
     "metadata": {},
     "execution_count": 113
    }
   ],
   "source": [
    "data_hc.shape"
   ]
  },
  {
   "cell_type": "code",
   "execution_count": 169,
   "metadata": {},
   "outputs": [],
   "source": [
    "corr_matrix = data_hc.corr().abs()"
   ]
  },
  {
   "cell_type": "code",
   "execution_count": 170,
   "metadata": {},
   "outputs": [],
   "source": [
    "# selecting upper triangle of correlation matrix\n",
    "upper = corr_matrix.where(np.triu(np.ones(corr_matrix.shape), k=1).astype(np.bool))"
   ]
  },
  {
   "cell_type": "code",
   "execution_count": 171,
   "metadata": {},
   "outputs": [
    {
     "output_type": "execute_result",
     "data": {
      "text/plain": [
       "            season   holiday  workingday   weather      temp     atemp  \\\n",
       "season         NaN  0.010959    0.014343  0.013005  0.394560  0.397765   \n",
       "holiday        NaN       NaN    0.248558  0.018406  0.025104  0.032903   \n",
       "workingday     NaN       NaN         NaN  0.052788  0.060589  0.064840   \n",
       "weather        NaN       NaN         NaN       NaN  0.093655  0.094877   \n",
       "temp           NaN       NaN         NaN       NaN       NaN  0.991839   \n",
       "atemp          NaN       NaN         NaN       NaN       NaN       NaN   \n",
       "humidity       NaN       NaN         NaN       NaN       NaN       NaN   \n",
       "windspeed      NaN       NaN         NaN       NaN       NaN       NaN   \n",
       "\n",
       "            humidity  windspeed  \n",
       "season      0.181712   0.135762  \n",
       "holiday     0.029520   0.021646  \n",
       "workingday  0.028026   0.001986  \n",
       "weather     0.432497   0.011120  \n",
       "temp        0.048478   0.008669  \n",
       "atemp       0.031606   0.049997  \n",
       "humidity         NaN   0.296975  \n",
       "windspeed        NaN        NaN  "
      ],
      "text/html": "<div>\n<style scoped>\n    .dataframe tbody tr th:only-of-type {\n        vertical-align: middle;\n    }\n\n    .dataframe tbody tr th {\n        vertical-align: top;\n    }\n\n    .dataframe thead th {\n        text-align: right;\n    }\n</style>\n<table border=\"1\" class=\"dataframe\">\n  <thead>\n    <tr style=\"text-align: right;\">\n      <th></th>\n      <th>season</th>\n      <th>holiday</th>\n      <th>workingday</th>\n      <th>weather</th>\n      <th>temp</th>\n      <th>atemp</th>\n      <th>humidity</th>\n      <th>windspeed</th>\n    </tr>\n  </thead>\n  <tbody>\n    <tr>\n      <th>season</th>\n      <td>NaN</td>\n      <td>0.010959</td>\n      <td>0.014343</td>\n      <td>0.013005</td>\n      <td>0.394560</td>\n      <td>0.397765</td>\n      <td>0.181712</td>\n      <td>0.135762</td>\n    </tr>\n    <tr>\n      <th>holiday</th>\n      <td>NaN</td>\n      <td>NaN</td>\n      <td>0.248558</td>\n      <td>0.018406</td>\n      <td>0.025104</td>\n      <td>0.032903</td>\n      <td>0.029520</td>\n      <td>0.021646</td>\n    </tr>\n    <tr>\n      <th>workingday</th>\n      <td>NaN</td>\n      <td>NaN</td>\n      <td>NaN</td>\n      <td>0.052788</td>\n      <td>0.060589</td>\n      <td>0.064840</td>\n      <td>0.028026</td>\n      <td>0.001986</td>\n    </tr>\n    <tr>\n      <th>weather</th>\n      <td>NaN</td>\n      <td>NaN</td>\n      <td>NaN</td>\n      <td>NaN</td>\n      <td>0.093655</td>\n      <td>0.094877</td>\n      <td>0.432497</td>\n      <td>0.011120</td>\n    </tr>\n    <tr>\n      <th>temp</th>\n      <td>NaN</td>\n      <td>NaN</td>\n      <td>NaN</td>\n      <td>NaN</td>\n      <td>NaN</td>\n      <td>0.991839</td>\n      <td>0.048478</td>\n      <td>0.008669</td>\n    </tr>\n    <tr>\n      <th>atemp</th>\n      <td>NaN</td>\n      <td>NaN</td>\n      <td>NaN</td>\n      <td>NaN</td>\n      <td>NaN</td>\n      <td>NaN</td>\n      <td>0.031606</td>\n      <td>0.049997</td>\n    </tr>\n    <tr>\n      <th>humidity</th>\n      <td>NaN</td>\n      <td>NaN</td>\n      <td>NaN</td>\n      <td>NaN</td>\n      <td>NaN</td>\n      <td>NaN</td>\n      <td>NaN</td>\n      <td>0.296975</td>\n    </tr>\n    <tr>\n      <th>windspeed</th>\n      <td>NaN</td>\n      <td>NaN</td>\n      <td>NaN</td>\n      <td>NaN</td>\n      <td>NaN</td>\n      <td>NaN</td>\n      <td>NaN</td>\n      <td>NaN</td>\n    </tr>\n  </tbody>\n</table>\n</div>"
     },
     "metadata": {},
     "execution_count": 171
    }
   ],
   "source": [
    "upper"
   ]
  },
  {
   "cell_type": "code",
   "execution_count": 182,
   "metadata": {},
   "outputs": [],
   "source": [
    "to_drop = [columns for columns in upper.columns if any(upper[columns] > 0.6)]"
   ]
  },
  {
   "cell_type": "code",
   "execution_count": 183,
   "metadata": {},
   "outputs": [
    {
     "output_type": "execute_result",
     "data": {
      "text/plain": [
       "['atemp']"
      ]
     },
     "metadata": {},
     "execution_count": 183
    }
   ],
   "source": [
    "to_drop"
   ]
  },
  {
   "cell_type": "code",
   "execution_count": 184,
   "metadata": {},
   "outputs": [],
   "source": [
    "# dropping the variable and creating new dataset\n",
    "new_data_hc = data_hc.drop(data[to_drop], axis=1)"
   ]
  },
  {
   "cell_type": "code",
   "execution_count": 185,
   "metadata": {},
   "outputs": [
    {
     "output_type": "execute_result",
     "data": {
      "text/plain": [
       "((12980, 8), (12980, 9))"
      ]
     },
     "metadata": {},
     "execution_count": 185
    }
   ],
   "source": [
    "# shape of new and original data\n",
    "new_data_hc.shape, data_hc.shape"
   ]
  },
  {
   "source": [
    "## Backward Feature Elimination\n",
    "\n",
    "**Assumptions:**\n",
    "\n",
    "    - No missing values in dataset\n",
    "    - Variance of the variables is high\n",
    "    - Low correlation between the independent variables\n",
    "\n",
    "**Steps:**\n",
    "\n",
    "    - Train the model using all the variables (n)\n",
    "    - Calculate the performance of the model\n",
    "    - Eliminate a variable, train the model on remaining variables (n-1)\n",
    "    - Calculate the performance of model on new data\n",
    "    - Identify the eliminated variable which dosen’t impact the performance much\n",
    "    - Repeat until no more variables can be dropped"
   ],
   "cell_type": "markdown",
   "metadata": {}
  },
  {
   "cell_type": "code",
   "execution_count": 204,
   "metadata": {},
   "outputs": [],
   "source": [
    "data_bf = pd.read_csv('backward_feature_elimination.csv')"
   ]
  },
  {
   "cell_type": "code",
   "execution_count": 205,
   "metadata": {},
   "outputs": [
    {
     "output_type": "execute_result",
     "data": {
      "text/plain": [
       "      ID  season  holiday  workingday  weather  temp  humidity  windspeed  \\\n",
       "0  AB101       1        0           0        1  9.84        81        0.0   \n",
       "1  AB102       1        0           0        1  9.02        80        0.0   \n",
       "2  AB103       1        0           0        1  9.02        80        0.0   \n",
       "3  AB104       1        0           0        1  9.84        75        0.0   \n",
       "4  AB105       1        0           0        1  9.84        75        0.0   \n",
       "\n",
       "   count  \n",
       "0     16  \n",
       "1     40  \n",
       "2     32  \n",
       "3     13  \n",
       "4      1  "
      ],
      "text/html": "<div>\n<style scoped>\n    .dataframe tbody tr th:only-of-type {\n        vertical-align: middle;\n    }\n\n    .dataframe tbody tr th {\n        vertical-align: top;\n    }\n\n    .dataframe thead th {\n        text-align: right;\n    }\n</style>\n<table border=\"1\" class=\"dataframe\">\n  <thead>\n    <tr style=\"text-align: right;\">\n      <th></th>\n      <th>ID</th>\n      <th>season</th>\n      <th>holiday</th>\n      <th>workingday</th>\n      <th>weather</th>\n      <th>temp</th>\n      <th>humidity</th>\n      <th>windspeed</th>\n      <th>count</th>\n    </tr>\n  </thead>\n  <tbody>\n    <tr>\n      <th>0</th>\n      <td>AB101</td>\n      <td>1</td>\n      <td>0</td>\n      <td>0</td>\n      <td>1</td>\n      <td>9.84</td>\n      <td>81</td>\n      <td>0.0</td>\n      <td>16</td>\n    </tr>\n    <tr>\n      <th>1</th>\n      <td>AB102</td>\n      <td>1</td>\n      <td>0</td>\n      <td>0</td>\n      <td>1</td>\n      <td>9.02</td>\n      <td>80</td>\n      <td>0.0</td>\n      <td>40</td>\n    </tr>\n    <tr>\n      <th>2</th>\n      <td>AB103</td>\n      <td>1</td>\n      <td>0</td>\n      <td>0</td>\n      <td>1</td>\n      <td>9.02</td>\n      <td>80</td>\n      <td>0.0</td>\n      <td>32</td>\n    </tr>\n    <tr>\n      <th>3</th>\n      <td>AB104</td>\n      <td>1</td>\n      <td>0</td>\n      <td>0</td>\n      <td>1</td>\n      <td>9.84</td>\n      <td>75</td>\n      <td>0.0</td>\n      <td>13</td>\n    </tr>\n    <tr>\n      <th>4</th>\n      <td>AB105</td>\n      <td>1</td>\n      <td>0</td>\n      <td>0</td>\n      <td>1</td>\n      <td>9.84</td>\n      <td>75</td>\n      <td>0.0</td>\n      <td>1</td>\n    </tr>\n  </tbody>\n</table>\n</div>"
     },
     "metadata": {},
     "execution_count": 205
    }
   ],
   "source": [
    "data_bf.head()"
   ]
  },
  {
   "cell_type": "code",
   "execution_count": 206,
   "metadata": {},
   "outputs": [
    {
     "output_type": "execute_result",
     "data": {
      "text/plain": [
       "ID            0\n",
       "season        0\n",
       "holiday       0\n",
       "workingday    0\n",
       "weather       0\n",
       "temp          0\n",
       "atemp         0\n",
       "humidity      0\n",
       "windspeed     0\n",
       "count         0\n",
       "dtype: int64"
      ]
     },
     "metadata": {},
     "execution_count": 206
    }
   ],
   "source": [
    "# checking missing values in the data\n",
    "data.isnull().sum()"
   ]
  },
  {
   "cell_type": "code",
   "execution_count": 208,
   "metadata": {},
   "outputs": [],
   "source": [
    "# creating the training data\n",
    "X = data_bf.drop(['ID', 'count'], axis=1)\n",
    "y = data_bf['count']"
   ]
  },
  {
   "cell_type": "code",
   "execution_count": 211,
   "metadata": {},
   "outputs": [
    {
     "output_type": "execute_result",
     "data": {
      "text/plain": [
       "((12980, 7), (12980,))"
      ]
     },
     "metadata": {},
     "execution_count": 211
    }
   ],
   "source": [
    "X.shape, y.shape"
   ]
  },
  {
   "cell_type": "code",
   "execution_count": 210,
   "metadata": {},
   "outputs": [
    {
     "output_type": "stream",
     "name": "stdout",
     "text": [
      "^C\n"
     ]
    }
   ],
   "source": [
    "!pip install mlxtend"
   ]
  },
  {
   "cell_type": "code",
   "execution_count": 193,
   "metadata": {},
   "outputs": [],
   "source": [
    "from mlxtend.feature_selection import SequentialFeatureSelector as sfs\n",
    "from sklearn.linear_model import LinearRegression"
   ]
  },
  {
   "cell_type": "code",
   "execution_count": 198,
   "metadata": {},
   "outputs": [],
   "source": [
    "lr = LinearRegression()\n",
    "sfs_backward = sfs(lr, forward=False, verbose=1, k_features=5, scoring='neg_mean_squared_error')"
   ]
  },
  {
   "cell_type": "code",
   "execution_count": 212,
   "metadata": {},
   "outputs": [
    {
     "output_type": "stream",
     "name": "stderr",
     "text": [
      "[Parallel(n_jobs=1)]: Using backend SequentialBackend with 1 concurrent workers.\n",
      "[Parallel(n_jobs=1)]: Done   7 out of   7 | elapsed:    0.2s finished\n",
      "Features: 6/5[Parallel(n_jobs=1)]: Using backend SequentialBackend with 1 concurrent workers.\n",
      "[Parallel(n_jobs=1)]: Done   6 out of   6 | elapsed:    0.1s finished\n",
      "Features: 5/5"
     ]
    }
   ],
   "source": [
    "sfs_backward = sfs_backward.fit(X, y)"
   ]
  },
  {
   "cell_type": "code",
   "execution_count": 213,
   "metadata": {},
   "outputs": [
    {
     "output_type": "execute_result",
     "data": {
      "text/plain": [
       "['holiday', 'workingday', 'weather', 'temp', 'humidity']"
      ]
     },
     "metadata": {},
     "execution_count": 213
    }
   ],
   "source": [
    "feature_names = list(sfs_backward.k_feature_names_)\n",
    "feature_names"
   ]
  },
  {
   "cell_type": "code",
   "execution_count": 215,
   "metadata": {},
   "outputs": [
    {
     "output_type": "stream",
     "name": "stderr",
     "text": [
      "<ipython-input-215-066c291d7700>:2: SettingWithCopyWarning: \nA value is trying to be set on a copy of a slice from a DataFrame.\nTry using .loc[row_indexer,col_indexer] = value instead\n\nSee the caveats in the documentation: https://pandas.pydata.org/pandas-docs/stable/user_guide/indexing.html#returning-a-view-versus-a-copy\n  new_data_bf['count'] = y\n"
     ]
    }
   ],
   "source": [
    "new_data_bf = data_bf[feature_names]\n",
    "new_data_bf['count'] = y"
   ]
  },
  {
   "cell_type": "code",
   "execution_count": 216,
   "metadata": {},
   "outputs": [
    {
     "output_type": "execute_result",
     "data": {
      "text/plain": [
       "   holiday  workingday  weather  temp  humidity  count\n",
       "0        0           0        1  9.84        81     16\n",
       "1        0           0        1  9.02        80     40\n",
       "2        0           0        1  9.02        80     32\n",
       "3        0           0        1  9.84        75     13\n",
       "4        0           0        1  9.84        75      1"
      ],
      "text/html": "<div>\n<style scoped>\n    .dataframe tbody tr th:only-of-type {\n        vertical-align: middle;\n    }\n\n    .dataframe tbody tr th {\n        vertical-align: top;\n    }\n\n    .dataframe thead th {\n        text-align: right;\n    }\n</style>\n<table border=\"1\" class=\"dataframe\">\n  <thead>\n    <tr style=\"text-align: right;\">\n      <th></th>\n      <th>holiday</th>\n      <th>workingday</th>\n      <th>weather</th>\n      <th>temp</th>\n      <th>humidity</th>\n      <th>count</th>\n    </tr>\n  </thead>\n  <tbody>\n    <tr>\n      <th>0</th>\n      <td>0</td>\n      <td>0</td>\n      <td>1</td>\n      <td>9.84</td>\n      <td>81</td>\n      <td>16</td>\n    </tr>\n    <tr>\n      <th>1</th>\n      <td>0</td>\n      <td>0</td>\n      <td>1</td>\n      <td>9.02</td>\n      <td>80</td>\n      <td>40</td>\n    </tr>\n    <tr>\n      <th>2</th>\n      <td>0</td>\n      <td>0</td>\n      <td>1</td>\n      <td>9.02</td>\n      <td>80</td>\n      <td>32</td>\n    </tr>\n    <tr>\n      <th>3</th>\n      <td>0</td>\n      <td>0</td>\n      <td>1</td>\n      <td>9.84</td>\n      <td>75</td>\n      <td>13</td>\n    </tr>\n    <tr>\n      <th>4</th>\n      <td>0</td>\n      <td>0</td>\n      <td>1</td>\n      <td>9.84</td>\n      <td>75</td>\n      <td>1</td>\n    </tr>\n  </tbody>\n</table>\n</div>"
     },
     "metadata": {},
     "execution_count": 216
    }
   ],
   "source": [
    "new_data_bf.head()"
   ]
  },
  {
   "source": [
    "## Forward Feature Selection\n",
    "\n",
    "**Steps:**\n",
    "\n",
    "    - Train n models using each feature (n) individually and check the performance\n",
    "    - Choose variables that give best performance\n",
    "    - Repeat the process and add one variable at a time\n",
    "    - Variable producing the highest improvement is retained\n",
    "    - Repeat the entire process until there is no significant improvement in Model’s performance\n"
   ],
   "cell_type": "markdown",
   "metadata": {}
  },
  {
   "cell_type": "code",
   "execution_count": 217,
   "metadata": {},
   "outputs": [],
   "source": [
    "data_ff = pd.read_csv('forward_feature_selection.csv')"
   ]
  },
  {
   "cell_type": "code",
   "execution_count": 219,
   "metadata": {},
   "outputs": [],
   "source": [
    "# creating the training data\n",
    "X_ff = data_ff.drop(['ID', 'count'], axis=1)\n",
    "y_ff = data_ff['count']"
   ]
  },
  {
   "cell_type": "code",
   "execution_count": 220,
   "metadata": {},
   "outputs": [],
   "source": [
    "# calling the linear regression model\n",
    "lreg = LinearRegression()\n",
    "sfs1 = sfs(lreg, k_features=4, forward=True, verbose=2, scoring='neg_mean_squared_error')"
   ]
  },
  {
   "cell_type": "code",
   "execution_count": 221,
   "metadata": {},
   "outputs": [
    {
     "output_type": "stream",
     "name": "stderr",
     "text": [
      "[Parallel(n_jobs=1)]: Using backend SequentialBackend with 1 concurrent workers.\n",
      "[Parallel(n_jobs=1)]: Done   1 out of   1 | elapsed:    0.0s remaining:    0.0s\n",
      "[Parallel(n_jobs=1)]: Done   7 out of   7 | elapsed:    0.0s finished\n",
      "\n",
      "[2021-06-26 10:50:42] Features: 1/4 -- score: -23364.95550318101[Parallel(n_jobs=1)]: Using backend SequentialBackend with 1 concurrent workers.\n",
      "[Parallel(n_jobs=1)]: Done   1 out of   1 | elapsed:    0.0s remaining:    0.0s\n",
      "[Parallel(n_jobs=1)]: Done   6 out of   6 | elapsed:    0.1s finished\n",
      "\n",
      "[2021-06-26 10:50:42] Features: 2/4 -- score: -21454.89933921974[Parallel(n_jobs=1)]: Using backend SequentialBackend with 1 concurrent workers.\n",
      "[Parallel(n_jobs=1)]: Done   1 out of   1 | elapsed:    0.0s remaining:    0.0s\n",
      "[Parallel(n_jobs=1)]: Done   5 out of   5 | elapsed:    0.1s finished\n",
      "\n",
      "[2021-06-26 10:50:42] Features: 3/4 -- score: -21458.27878856438[Parallel(n_jobs=1)]: Using backend SequentialBackend with 1 concurrent workers.\n",
      "[Parallel(n_jobs=1)]: Done   1 out of   1 | elapsed:    0.0s remaining:    0.0s\n",
      "[Parallel(n_jobs=1)]: Done   4 out of   4 | elapsed:    0.0s finished\n",
      "\n",
      "[2021-06-26 10:50:42] Features: 4/4 -- score: -21477.98857350271"
     ]
    }
   ],
   "source": [
    "sfs1 = sfs1.fit(X_ff, y_ff)"
   ]
  },
  {
   "cell_type": "code",
   "execution_count": 222,
   "metadata": {},
   "outputs": [
    {
     "output_type": "stream",
     "name": "stdout",
     "text": [
      "['holiday', 'workingday', 'temp', 'humidity']\n"
     ]
    }
   ],
   "source": [
    "feat_names = list(sfs1.k_feature_names_)\n",
    "print(feat_names)"
   ]
  },
  {
   "cell_type": "code",
   "execution_count": 223,
   "metadata": {},
   "outputs": [
    {
     "output_type": "stream",
     "name": "stderr",
     "text": [
      "<ipython-input-223-d1ece67ce179>:3: SettingWithCopyWarning: \nA value is trying to be set on a copy of a slice from a DataFrame.\nTry using .loc[row_indexer,col_indexer] = value instead\n\nSee the caveats in the documentation: https://pandas.pydata.org/pandas-docs/stable/user_guide/indexing.html#returning-a-view-versus-a-copy\n  new_data_ff['count'] = data_ff['count']\n"
     ]
    }
   ],
   "source": [
    "# creating a new dataframe using the above variables and adding the target variable\n",
    "new_data_ff = data_ff[feat_names]\n",
    "new_data_ff['count'] = data_ff['count']"
   ]
  },
  {
   "cell_type": "code",
   "execution_count": 224,
   "metadata": {},
   "outputs": [
    {
     "output_type": "execute_result",
     "data": {
      "text/plain": [
       "((12980, 5), (12980, 9))"
      ]
     },
     "metadata": {},
     "execution_count": 224
    }
   ],
   "source": [
    "# shape of new and original data\n",
    "new_data_ff.shape, data_ff.shape"
   ]
  },
  {
   "cell_type": "code",
   "execution_count": null,
   "metadata": {},
   "outputs": [],
   "source": []
  }
 ]
}